{
 "cells": [
  {
   "cell_type": "code",
   "execution_count": 1,
   "id": "cb63b595",
   "metadata": {},
   "outputs": [],
   "source": [
    "import pandas as pd"
   ]
  },
  {
   "cell_type": "code",
   "execution_count": 2,
   "id": "3bd0c2f6",
   "metadata": {},
   "outputs": [],
   "source": [
    "hotels = pd.read_csv('H1.csv')"
   ]
  },
  {
   "cell_type": "code",
   "execution_count": 3,
   "id": "890388da",
   "metadata": {},
   "outputs": [],
   "source": [
    "hotels['yearweek'] = pd.to_numeric(hotels['ArrivalDateYear'].map(str) + hotels['ArrivalDateWeekNumber'].map(str).str.pad(width=2, side='left', fillchar='0'))"
   ]
  },
  {
   "cell_type": "code",
   "execution_count": 4,
   "id": "f25c3c3d",
   "metadata": {},
   "outputs": [],
   "source": [
    "yearweek = hotels.groupby('yearweek')\n"
   ]
  },
  {
   "cell_type": "code",
   "execution_count": 5,
   "id": "e0285ea6",
   "metadata": {},
   "outputs": [],
   "source": [
    "cancelation_per_week = yearweek['IsCanceled'].sum()"
   ]
  },
  {
   "cell_type": "code",
   "execution_count": 6,
   "id": "672615c9",
   "metadata": {},
   "outputs": [
    {
     "name": "stdout",
     "output_type": "stream",
     "text": [
      "yearweek\n",
      "201527     41\n",
      "201528     48\n",
      "201529     87\n",
      "201530     74\n",
      "201531    101\n",
      "         ... \n",
      "201731    173\n",
      "201732    140\n",
      "201733    182\n",
      "201734    143\n",
      "201735    100\n",
      "Name: IsCanceled, Length: 115, dtype: int64\n"
     ]
    }
   ],
   "source": [
    "print(cancelation_per_week)"
   ]
  },
  {
   "cell_type": "code",
   "execution_count": null,
   "id": "eefa0793",
   "metadata": {},
   "outputs": [],
   "source": []
  }
 ],
 "metadata": {
  "kernelspec": {
   "display_name": "Python 3",
   "language": "python",
   "name": "python3"
  },
  "language_info": {
   "codemirror_mode": {
    "name": "ipython",
    "version": 3
   },
   "file_extension": ".py",
   "mimetype": "text/x-python",
   "name": "python",
   "nbconvert_exporter": "python",
   "pygments_lexer": "ipython3",
   "version": "3.9.5"
  }
 },
 "nbformat": 4,
 "nbformat_minor": 5
}
